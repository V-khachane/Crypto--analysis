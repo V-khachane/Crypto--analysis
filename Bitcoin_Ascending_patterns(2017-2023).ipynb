{
 "cells": [
  {
   "cell_type": "markdown",
   "id": "f348c904-e62e-4cb2-9be5-2a2c111eef83",
   "metadata": {},
   "source": [
    "# Importing Library"
   ]
  },
  {
   "cell_type": "code",
   "execution_count": 1,
   "id": "b8fcce77-64da-4e5b-b9e2-23ab7841542f",
   "metadata": {},
   "outputs": [],
   "source": [
    "import pandas as pd"
   ]
  },
  {
   "cell_type": "markdown",
   "id": "6cd18fc7-1236-4dd3-b3c4-ea916c62293c",
   "metadata": {},
   "source": [
    "# Data Understanding"
   ]
  },
  {
   "cell_type": "markdown",
   "id": "f1b8fc52-d56c-4927-af90-a4c653b80fd0",
   "metadata": {},
   "source": [
    "# loading the data"
   ]
  },
  {
   "cell_type": "code",
   "execution_count": 2,
   "id": "f67e9917-8b51-4937-a59d-44a04d9ac635",
   "metadata": {},
   "outputs": [],
   "source": [
    "data = pd.read_csv(\"C:\\\\Users\\\\Vipul Khachane\\\\Documents\\\\Data\\\\bitcoin_2017_to_2023.csv\",encoding='latin1')"
   ]
  },
  {
   "cell_type": "markdown",
   "id": "fcacc456-ed47-40e3-bf6f-5c52c8b7cc1a",
   "metadata": {},
   "source": [
    "# Display the first few rows"
   ]
  },
  {
   "cell_type": "code",
   "execution_count": 3,
   "id": "201ef855-ed5a-4d22-9290-e152dc7ebfef",
   "metadata": {},
   "outputs": [
    {
     "name": "stdout",
     "output_type": "stream",
     "text": [
      "             timestamp      open      high       low     close    volume  \\\n",
      "0  2023-08-01 13:19:00  28902.48  28902.49  28902.48  28902.49   4.68658   \n",
      "1  2023-08-01 13:18:00  28902.48  28902.49  28902.48  28902.49   4.77589   \n",
      "2  2023-08-01 13:17:00  28908.52  28908.53  28902.48  28902.49  11.52263   \n",
      "3  2023-08-01 13:16:00  28907.41  28912.74  28907.41  28908.53  15.89610   \n",
      "4  2023-08-01 13:15:00  28896.00  28907.42  28893.03  28907.41  37.74657   \n",
      "\n",
      "   quote_asset_volume  number_of_trades  taker_buy_base_asset_volume  \\\n",
      "0        1.354538e+05               258                      0.89391   \n",
      "1        1.380351e+05               317                      2.24546   \n",
      "2        3.330532e+05               451                      2.70873   \n",
      "3        4.595556e+05               483                     10.22981   \n",
      "4        1.090761e+06               686                     16.50452   \n",
      "\n",
      "   taker_buy_quote_asset_volume  \n",
      "0                  25836.224836  \n",
      "1                  64899.385195  \n",
      "2                  78290.170121  \n",
      "3                 295738.166916  \n",
      "4                 476955.246611  \n"
     ]
    }
   ],
   "source": [
    "print(data.head())"
   ]
  },
  {
   "cell_type": "markdown",
   "id": "1e93c977-0d8a-4061-95f3-b360e6ee77aa",
   "metadata": {},
   "source": [
    "# Check data types"
   ]
  },
  {
   "cell_type": "code",
   "execution_count": 4,
   "id": "00545ee5-af81-4fc9-8f50-5b67a9948b14",
   "metadata": {},
   "outputs": [
    {
     "name": "stdout",
     "output_type": "stream",
     "text": [
      "<class 'pandas.core.frame.DataFrame'>\n",
      "RangeIndex: 3126000 entries, 0 to 3125999\n",
      "Data columns (total 10 columns):\n",
      " #   Column                        Dtype  \n",
      "---  ------                        -----  \n",
      " 0   timestamp                     object \n",
      " 1   open                          float64\n",
      " 2   high                          float64\n",
      " 3   low                           float64\n",
      " 4   close                         float64\n",
      " 5   volume                        float64\n",
      " 6   quote_asset_volume            float64\n",
      " 7   number_of_trades              int64  \n",
      " 8   taker_buy_base_asset_volume   float64\n",
      " 9   taker_buy_quote_asset_volume  float64\n",
      "dtypes: float64(8), int64(1), object(1)\n",
      "memory usage: 238.5+ MB\n",
      "None\n"
     ]
    }
   ],
   "source": [
    "print(data.info())"
   ]
  },
  {
   "cell_type": "markdown",
   "id": "a9eddc12-6ed3-4445-b1e3-17595da2665a",
   "metadata": {},
   "source": [
    "# Summary statistics"
   ]
  },
  {
   "cell_type": "code",
   "execution_count": 5,
   "id": "96fb7feb-9198-4c9e-98be-66c78cf44ad9",
   "metadata": {},
   "outputs": [
    {
     "name": "stdout",
     "output_type": "stream",
     "text": [
      "               open          high           low         close        volume  \\\n",
      "count  3.126000e+06  3.126000e+06  3.126000e+06  3.126000e+06  3.126000e+06   \n",
      "mean   2.008947e+04  2.010217e+04  2.007666e+04  2.008946e+04  5.290800e+01   \n",
      "std    1.605896e+04  1.606926e+04  1.604871e+04  1.605896e+04  9.774388e+01   \n",
      "min    2.830000e+03  2.830000e+03  2.817000e+03  2.817000e+03  0.000000e+00   \n",
      "25%    7.624747e+03  7.629600e+03  7.620000e+03  7.624798e+03  1.120167e+01   \n",
      "50%    1.169999e+04  1.170681e+04  1.169249e+04  1.170000e+04  2.387539e+01   \n",
      "75%    2.989957e+04  2.990724e+04  2.989051e+04  2.989957e+04  5.393630e+01   \n",
      "max    6.900000e+04  6.900000e+04  6.878670e+04  6.900000e+04  5.877775e+03   \n",
      "\n",
      "       quote_asset_volume  number_of_trades  taker_buy_base_asset_volume  \\\n",
      "count        3.126000e+06      3.126000e+06                 3.126000e+06   \n",
      "mean         1.155882e+06      1.018583e+03                 2.632231e+01   \n",
      "std          2.335868e+06      1.817813e+03                 4.972880e+01   \n",
      "min          0.000000e+00      0.000000e+00                 0.000000e+00   \n",
      "25%          1.122335e+05      1.500000e+02                 5.100715e+00   \n",
      "50%          3.706467e+05      4.130000e+02                 1.148990e+01   \n",
      "75%          1.276762e+06      1.026000e+03                 2.693009e+01   \n",
      "max          1.459557e+08      1.073150e+05                 3.537453e+03   \n",
      "\n",
      "       taker_buy_quote_asset_volume  \n",
      "count                  3.126000e+06  \n",
      "mean                   5.727211e+05  \n",
      "std                    1.193135e+06  \n",
      "min                    0.000000e+00  \n",
      "25%                    5.125057e+04  \n",
      "50%                    1.753695e+05  \n",
      "75%                    6.210250e+05  \n",
      "max                    8.947551e+07  \n"
     ]
    }
   ],
   "source": [
    "print(data.describe())"
   ]
  },
  {
   "cell_type": "markdown",
   "id": "465436c4-fcd6-4c35-8e90-f5dc8d93d3cc",
   "metadata": {},
   "source": [
    "# Check for Missing Values:"
   ]
  },
  {
   "cell_type": "code",
   "execution_count": 6,
   "id": "fbf316c5-ddd3-4546-b4f7-7fbcb8c01c33",
   "metadata": {},
   "outputs": [
    {
     "name": "stdout",
     "output_type": "stream",
     "text": [
      "timestamp                       0\n",
      "open                            0\n",
      "high                            0\n",
      "low                             0\n",
      "close                           0\n",
      "volume                          0\n",
      "quote_asset_volume              0\n",
      "number_of_trades                0\n",
      "taker_buy_base_asset_volume     0\n",
      "taker_buy_quote_asset_volume    0\n",
      "dtype: int64\n"
     ]
    }
   ],
   "source": [
    "print(data.isnull().sum())"
   ]
  },
  {
   "cell_type": "markdown",
   "id": "aaa14bf5-db79-4d72-8b54-a8fe61f8b2ee",
   "metadata": {},
   "source": [
    "# Preprocess the Data"
   ]
  },
  {
   "cell_type": "code",
   "execution_count": null,
   "id": "08985f42-2672-4589-a3eb-5375d7d2d1de",
   "metadata": {},
   "outputs": [],
   "source": [
    "# Convert Timestamps"
   ]
  },
  {
   "cell_type": "code",
   "execution_count": 7,
   "id": "ecbceec0-d040-4801-9985-c9f31b5dbe56",
   "metadata": {},
   "outputs": [],
   "source": [
    "data['timestamp'] = pd.to_datetime(data['timestamp'], errors='coerce')"
   ]
  },
  {
   "cell_type": "code",
   "execution_count": null,
   "id": "f14d461d-de84-490d-a139-c0bf0299fa3d",
   "metadata": {},
   "outputs": [],
   "source": [
    "# Sort Data Chronologically"
   ]
  },
  {
   "cell_type": "code",
   "execution_count": 8,
   "id": "e408e9b4-e26d-4500-ac43-055252c73028",
   "metadata": {},
   "outputs": [],
   "source": [
    "data.sort_values(by='timestamp', inplace=True)"
   ]
  },
  {
   "cell_type": "markdown",
   "id": "d8313a21-33db-4fbd-9b97-5eb4ad28aade",
   "metadata": {},
   "source": [
    "# Define the Ascending Triangle Pattern"
   ]
  },
  {
   "cell_type": "code",
   "execution_count": null,
   "id": "c2e0d58e-effe-4cb5-8518-6d91bf33f958",
   "metadata": {},
   "outputs": [],
   "source": [
    "# Key Characteristics of an Ascending Triangle:\n",
    "            Upper Trendline: Flat or horizontal line formed by the highs.\n",
    "            Lower Trendline: Rising line formed by the lows."
   ]
  },
  {
   "cell_type": "markdown",
   "id": "523141d3-1c0c-42db-87fa-6a41fa5129b9",
   "metadata": {},
   "source": [
    "# Implement the Pattern Detection Algorithm"
   ]
  },
  {
   "cell_type": "code",
   "execution_count": 9,
   "id": "141ee28a-5119-4d3b-a2fc-47b138b7c2d9",
   "metadata": {},
   "outputs": [],
   "source": [
    "def detect_ascending_triangle(data, window=20, tolerance=0.02):\n",
    "    triangles = []\n",
    "    for i in range(window, len(data) - window):\n",
    "        highs = data['high'][i - window:i].values\n",
    "        lows = data['low'][i - window:i].values\n",
    "        \n",
    "        max_high = max(highs)\n",
    "        min_high = min(highs)\n",
    "        \n",
    "        if (max_high - min_high) / max_high < tolerance:\n",
    "            is_upward = all(lows[j] < lows[j + 1] for j in range(len(lows) - 1))\n",
    "            if is_upward:\n",
    "                triangles.append((data['timestamp'][i - window], data['timestamp'][i]))\n",
    "    \n",
    "    return triangles"
   ]
  },
  {
   "cell_type": "markdown",
   "id": "78f039cf-1c35-4fc5-8b37-e60ceef6c886",
   "metadata": {},
   "source": [
    "# Detect Patterns:"
   ]
  },
  {
   "cell_type": "code",
   "execution_count": 10,
   "id": "0abb6549-fe3a-4a6e-8804-0b359e8a3134",
   "metadata": {},
   "outputs": [
    {
     "name": "stdout",
     "output_type": "stream",
     "text": [
      "Total Ascending Triangle Patterns Detected: 54\n",
      "Start: 2023-07-07 12:22:00, End: 2023-07-07 12:02:00\n",
      "Start: 2023-07-07 12:21:00, End: 2023-07-07 12:01:00\n",
      "Start: 2023-07-07 12:20:00, End: 2023-07-07 12:00:00\n",
      "Start: 2023-07-07 12:19:00, End: 2023-07-07 11:59:00\n",
      "Start: 2023-07-07 12:18:00, End: 2023-07-07 11:58:00\n",
      "Start: 2023-05-16 04:17:00, End: 2023-05-16 03:57:00\n",
      "Start: 2023-05-16 04:16:00, End: 2023-05-16 03:56:00\n",
      "Start: 2023-04-17 07:07:00, End: 2023-04-17 06:47:00\n",
      "Start: 2023-04-15 19:51:00, End: 2023-04-15 19:31:00\n",
      "Start: 2023-04-15 19:50:00, End: 2023-04-15 19:30:00\n",
      "Start: 2023-04-15 19:49:00, End: 2023-04-15 19:29:00\n",
      "Start: 2023-04-15 19:48:00, End: 2023-04-15 19:28:00\n",
      "Start: 2023-04-15 19:47:00, End: 2023-04-15 19:27:00\n",
      "Start: 2023-04-15 19:46:00, End: 2023-04-15 19:26:00\n",
      "Start: 2023-04-14 01:23:00, End: 2023-04-14 01:03:00\n",
      "Start: 2023-04-02 05:23:00, End: 2023-04-02 05:03:00\n",
      "Start: 2023-04-02 05:21:00, End: 2023-04-02 05:01:00\n",
      "Start: 2022-08-30 20:32:00, End: 2022-08-30 20:12:00\n",
      "Start: 2022-08-30 20:31:00, End: 2022-08-30 20:11:00\n",
      "Start: 2022-08-17 07:29:00, End: 2022-08-17 07:09:00\n",
      "Start: 2022-06-13 19:06:00, End: 2022-06-13 18:46:00\n",
      "Start: 2022-06-13 19:05:00, End: 2022-06-13 18:45:00\n",
      "Start: 2022-05-24 03:02:00, End: 2022-05-24 02:42:00\n",
      "Start: 2022-05-22 11:48:00, End: 2022-05-22 11:28:00\n",
      "Start: 2022-05-22 11:47:00, End: 2022-05-22 11:27:00\n",
      "Start: 2022-05-22 11:46:00, End: 2022-05-22 11:26:00\n",
      "Start: 2022-01-10 02:06:00, End: 2022-01-10 01:46:00\n",
      "Start: 2022-01-10 02:05:00, End: 2022-01-10 01:45:00\n",
      "Start: 2022-01-10 02:04:00, End: 2022-01-10 01:44:00\n",
      "Start: 2022-01-10 02:03:00, End: 2022-01-10 01:43:00\n",
      "Start: 2021-10-06 06:15:00, End: 2021-10-06 05:55:00\n",
      "Start: 2021-10-02 14:12:00, End: 2021-10-02 13:52:00\n",
      "Start: 2021-10-02 14:11:00, End: 2021-10-02 13:51:00\n",
      "Start: 2021-10-02 14:10:00, End: 2021-10-02 13:50:00\n",
      "Start: 2021-09-30 10:43:00, End: 2021-09-30 10:23:00\n",
      "Start: 2021-09-13 08:17:00, End: 2021-09-13 07:57:00\n",
      "Start: 2021-08-29 12:08:00, End: 2021-08-29 11:48:00\n",
      "Start: 2021-02-19 11:12:00, End: 2021-02-19 10:52:00\n",
      "Start: 2021-02-19 11:11:00, End: 2021-02-19 10:51:00\n",
      "Start: 2021-02-09 08:59:00, End: 2021-02-09 08:39:00\n",
      "Start: 2020-08-25 21:34:00, End: 2020-08-25 21:14:00\n",
      "Start: 2020-08-25 21:33:00, End: 2020-08-25 21:13:00\n",
      "Start: 2020-05-06 16:24:00, End: 2020-05-06 16:04:00\n",
      "Start: 2020-05-06 16:23:00, End: 2020-05-06 16:03:00\n",
      "Start: 2019-11-24 18:16:00, End: 2019-11-24 17:56:00\n",
      "Start: 2019-09-02 14:01:00, End: 2019-09-02 13:41:00\n",
      "Start: 2019-09-02 14:00:00, End: 2019-09-02 13:40:00\n",
      "Start: 2019-09-02 13:59:00, End: 2019-09-02 13:39:00\n",
      "Start: 2019-07-25 03:45:00, End: 2019-07-25 03:25:00\n",
      "Start: 2019-05-28 14:02:00, End: 2019-05-28 13:42:00\n",
      "Start: 2019-03-03 13:00:00, End: 2019-03-03 12:40:00\n",
      "Start: 2019-03-03 12:59:00, End: 2019-03-03 12:39:00\n",
      "Start: 2018-02-27 02:00:00, End: 2018-02-27 01:40:00\n",
      "Start: 2018-02-24 15:29:00, End: 2018-02-24 15:09:00\n"
     ]
    }
   ],
   "source": [
    "detected_patterns = detect_ascending_triangle(data)\n",
    "count = len(detected_patterns)\n",
    "print(f'Total Ascending Triangle Patterns Detected: {count}')\n",
    "for start, end in detected_patterns:\n",
    "    print(f'Start: {start}, End: {end}')"
   ]
  },
  {
   "cell_type": "markdown",
   "id": "00211559-9565-4796-b370-ced9305be5c8",
   "metadata": {},
   "source": [
    "# Visualize the Data"
   ]
  },
  {
   "cell_type": "code",
   "execution_count": 11,
   "id": "e1a838d8-af4c-4bd9-a317-4fab46f05997",
   "metadata": {},
   "outputs": [],
   "source": [
    "import matplotlib.pyplot as plt"
   ]
  },
  {
   "cell_type": "code",
   "execution_count": 12,
   "id": "c9646b7b-84f4-401e-a43e-ad6a0d508a49",
   "metadata": {},
   "outputs": [
    {
     "data": {
      "image/png": "[encoded data removed]",
      "text/plain": [
       "<Figure size 1200x600 with 1 Axes>"
      ]
     },
     "metadata": {},
     "output_type": "display_data"
    }
   ],
   "source": [
    "plt.figure(figsize=(12, 6))\n",
    "plt.plot(data['timestamp'], data['close'], color='blue')\n",
    "\n",
    "# Highlight detected patterns\n",
    "for start, end in detected_patterns:\n",
    "    plt.axvspan(start, end, color='orange', alpha=0.3)\n",
    "\n",
    "# Set the title and labels\n",
    "plt.title('Bitcoin Price with Ascending Triangle Patterns')\n",
    "plt.xlabel('Date')\n",
    "plt.ylabel('Price')\n",
    "\n",
    "# Adjust layout to fit everything\n",
    "plt.tight_layout()  \n",
    "plt.show()\n"
   ]
  },
  {
   "cell_type": "markdown",
   "id": "cd73c3b5-06a3-4d1b-9d95-2b25b13f304e",
   "metadata": {},
   "source": [
    "# CONCLUSION ---->\n",
    "            This analysis successfully identified and visualized Ascending Triangle patterns in Bitcoin price data from 2017 to 2023. Key points include:\r\n",
    "\n",
    "Data Handling ----> Loaded and preprocessed the dataset, ensuring proper formatting and chronological order.\r\n",
    "\r\n",
    "Pattern Detection -----> Implemented an algorithm to detect Ascending Triangle patterns based on defined characteristics.\r\n",
    "\r\n",
    "Visualization ----> Plotted the price data, highlighting the detected patterns for better understanding.\r\n",
    "\r\n",
    "Real-Time Detection -----> Discussed strategies for detecting patterns in real-time using streaming data.\r\n",
    "\r\n",
    "Trading Strategies -----> Suggested potential trading approaches based on the identified patterns.\r\n",
    "\r\n",
    "Overall, this analysis provides valuable insights into Bitcoin price behavior, useful for traders and analysts. Future work could enhance detection methods and backtest trading strategies."
   ]
  }
 ],
 "metadata": {
  "kernelspec": {
   "display_name": "Python 3 (ipykernel)",
   "language": "python",
   "name": "python3"
  },
  "language_info": {
   "codemirror_mode": {
    "name": "ipython",
    "version": 3
   },
   "file_extension": ".py",
   "mimetype": "text/x-python",
   "name": "python",
   "nbconvert_exporter": "python",
   "pygments_lexer": "ipython3",
   "version": "3.11.7"
  }
 },
 "nbformat": 4,
 "nbformat_minor": 5
}
